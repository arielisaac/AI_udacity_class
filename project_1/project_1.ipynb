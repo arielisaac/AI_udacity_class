{
 "cells": [
  {
   "cell_type": "code",
   "id": "initial_id",
   "metadata": {
    "collapsed": true,
    "ExecuteTime": {
     "end_time": "2025-04-22T12:44:50.238037Z",
     "start_time": "2025-04-22T12:44:48.375348Z"
    }
   },
   "source": "!pip install peft",
   "outputs": [
    {
     "name": "stdout",
     "output_type": "stream",
     "text": [
      "Looking in indexes: https://nexus.corp.indeed.com/repository/pypi/simple\r\n",
      "Requirement already satisfied: peft in /Users/arcartaya/miniconda3/lib/python3.12/site-packages (0.15.2)\r\n",
      "Requirement already satisfied: numpy>=1.17 in /Users/arcartaya/miniconda3/lib/python3.12/site-packages (from peft) (2.2.4)\r\n",
      "Requirement already satisfied: packaging>=20.0 in /Users/arcartaya/miniconda3/lib/python3.12/site-packages (from peft) (23.2)\r\n",
      "Requirement already satisfied: psutil in /Users/arcartaya/miniconda3/lib/python3.12/site-packages (from peft) (7.0.0)\r\n",
      "Requirement already satisfied: pyyaml in /Users/arcartaya/miniconda3/lib/python3.12/site-packages (from peft) (6.0.2)\r\n",
      "Requirement already satisfied: torch>=1.13.0 in /Users/arcartaya/miniconda3/lib/python3.12/site-packages (from peft) (2.6.0)\r\n",
      "Requirement already satisfied: transformers in /Users/arcartaya/miniconda3/lib/python3.12/site-packages (from peft) (4.51.2)\r\n",
      "Requirement already satisfied: tqdm in /Users/arcartaya/miniconda3/lib/python3.12/site-packages (from peft) (4.67.1)\r\n",
      "Requirement already satisfied: accelerate>=0.21.0 in /Users/arcartaya/miniconda3/lib/python3.12/site-packages (from peft) (1.6.0)\r\n",
      "Requirement already satisfied: safetensors in /Users/arcartaya/miniconda3/lib/python3.12/site-packages (from peft) (0.5.3)\r\n",
      "Requirement already satisfied: huggingface_hub>=0.25.0 in /Users/arcartaya/miniconda3/lib/python3.12/site-packages (from peft) (0.30.2)\r\n",
      "Requirement already satisfied: filelock in /Users/arcartaya/miniconda3/lib/python3.12/site-packages (from huggingface_hub>=0.25.0->peft) (3.18.0)\r\n",
      "Requirement already satisfied: fsspec>=2023.5.0 in /Users/arcartaya/miniconda3/lib/python3.12/site-packages (from huggingface_hub>=0.25.0->peft) (2023.10.0)\r\n",
      "Requirement already satisfied: requests in /Users/arcartaya/miniconda3/lib/python3.12/site-packages (from huggingface_hub>=0.25.0->peft) (2.32.3)\r\n",
      "Requirement already satisfied: typing-extensions>=3.7.4.3 in /Users/arcartaya/miniconda3/lib/python3.12/site-packages (from huggingface_hub>=0.25.0->peft) (4.13.2)\r\n",
      "Requirement already satisfied: networkx in /Users/arcartaya/miniconda3/lib/python3.12/site-packages (from torch>=1.13.0->peft) (3.4.2)\r\n",
      "Requirement already satisfied: jinja2 in /Users/arcartaya/miniconda3/lib/python3.12/site-packages (from torch>=1.13.0->peft) (3.1.6)\r\n",
      "Requirement already satisfied: setuptools in /Users/arcartaya/miniconda3/lib/python3.12/site-packages (from torch>=1.13.0->peft) (68.2.2)\r\n",
      "Requirement already satisfied: sympy==1.13.1 in /Users/arcartaya/miniconda3/lib/python3.12/site-packages (from torch>=1.13.0->peft) (1.13.1)\r\n",
      "Requirement already satisfied: mpmath<1.4,>=1.1.0 in /Users/arcartaya/miniconda3/lib/python3.12/site-packages (from sympy==1.13.1->torch>=1.13.0->peft) (1.3.0)\r\n",
      "Requirement already satisfied: regex!=2019.12.17 in /Users/arcartaya/miniconda3/lib/python3.12/site-packages (from transformers->peft) (2024.11.6)\r\n",
      "Requirement already satisfied: tokenizers<0.22,>=0.21 in /Users/arcartaya/miniconda3/lib/python3.12/site-packages (from transformers->peft) (0.21.1)\r\n",
      "Requirement already satisfied: MarkupSafe>=2.0 in /Users/arcartaya/miniconda3/lib/python3.12/site-packages (from jinja2->torch>=1.13.0->peft) (3.0.2)\r\n",
      "Requirement already satisfied: charset-normalizer<4,>=2 in /Users/arcartaya/miniconda3/lib/python3.12/site-packages (from requests->huggingface_hub>=0.25.0->peft) (2.0.4)\r\n",
      "Requirement already satisfied: idna<4,>=2.5 in /Users/arcartaya/miniconda3/lib/python3.12/site-packages (from requests->huggingface_hub>=0.25.0->peft) (3.4)\r\n",
      "Requirement already satisfied: urllib3<3,>=1.21.1 in /Users/arcartaya/miniconda3/lib/python3.12/site-packages (from requests->huggingface_hub>=0.25.0->peft) (2.1.0)\r\n",
      "Requirement already satisfied: certifi>=2017.4.17 in /Users/arcartaya/miniconda3/lib/python3.12/site-packages (from requests->huggingface_hub>=0.25.0->peft) (2025.1.31)\r\n"
     ]
    }
   ],
   "execution_count": 1
  },
  {
   "metadata": {
    "ExecuteTime": {
     "end_time": "2025-04-22T12:45:47.568809Z",
     "start_time": "2025-04-22T12:45:47.560791Z"
    }
   },
   "cell_type": "code",
   "source": [
    "# https://learn.udacity.com/nanodegrees/nd101-ent-ai-swe-indeed/parts/cd13303/lessons/786df5de-95ad-4e0d-be51-cc8a1c1e40fe/concepts/ed4cd691-b999-454e-b715-a603fb2aeeb5?lesson_tab=lesson\n",
    "from peft import LoraConfig\n",
    "config = LoraConfig()\n",
    "# https://huggingface.co/docs/peft/main/en/conceptual_guides/lora"
   ],
   "id": "adda40efc1f78f51",
   "outputs": [],
   "execution_count": 3
  },
  {
   "metadata": {
    "ExecuteTime": {
     "end_time": "2025-04-22T12:47:41.085519Z",
     "start_time": "2025-04-22T12:47:40.711436Z"
    }
   },
   "cell_type": "code",
   "source": [
    "from transformers import AutoModelForCausalLM\n",
    "model = AutoModelForCausalLM.from_pretrained(\"gpt2\")\n",
    "from peft import get_peft_model\n",
    "lora_model = get_peft_model(model, config)"
   ],
   "id": "66eed85011553a56",
   "outputs": [
    {
     "name": "stderr",
     "output_type": "stream",
     "text": [
      "/Users/arcartaya/miniconda3/lib/python3.12/site-packages/peft/tuners/lora/layer.py:1768: UserWarning: fan_in_fan_out is set to False but the target module is `Conv1D`. Setting fan_in_fan_out to True.\n",
      "  warnings.warn(\n"
     ]
    }
   ],
   "execution_count": 5
  },
  {
   "metadata": {
    "ExecuteTime": {
     "end_time": "2025-04-22T12:56:37.184826Z",
     "start_time": "2025-04-22T12:56:36.491004Z"
    }
   },
   "cell_type": "code",
   "source": [
    "lora_model.print_trainable_parameters()\n",
    "lora_model.save_pretrained(\"gpt-lora\")\n"
   ],
   "id": "da76eca70680caef",
   "outputs": [
    {
     "name": "stdout",
     "output_type": "stream",
     "text": [
      "trainable params: 294,912 || all params: 124,734,720 || trainable%: 0.2364\n"
     ]
    }
   ],
   "execution_count": 7
  }
 ],
 "metadata": {
  "kernelspec": {
   "display_name": "Python 3",
   "language": "python",
   "name": "python3"
  },
  "language_info": {
   "codemirror_mode": {
    "name": "ipython",
    "version": 2
   },
   "file_extension": ".py",
   "mimetype": "text/x-python",
   "name": "python",
   "nbconvert_exporter": "python",
   "pygments_lexer": "ipython2",
   "version": "2.7.6"
  }
 },
 "nbformat": 4,
 "nbformat_minor": 5
}
