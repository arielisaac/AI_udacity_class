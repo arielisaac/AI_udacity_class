{
 "cells": [
  {
   "cell_type": "code",
   "id": "initial_id",
   "metadata": {
    "collapsed": true,
    "ExecuteTime": {
     "end_time": "2025-04-26T17:18:33.671204Z",
     "start_time": "2025-04-26T17:18:33.662506Z"
    }
   },
   "source": [
    "#Create a Number Sum Dataset\n",
    "import torch\n",
    "import torch.nn as nn\n",
    "import torch.optim as optim\n",
    "from torch.utils.data import Dataset, DataLoader\n",
    "\n",
    "class NumberSumDataset(Dataset):\n",
    "    def __init__(self, data_range=(1, 10)):\n",
    "        self.numbers = list(range(data_range[0], data_range[1]))\n",
    "\n",
    "    def __getitem__(self, index):\n",
    "        number1 = float(self.numbers[index // len(self.numbers)])\n",
    "        number2 = float(self.numbers[index % len(self.numbers)])\n",
    "        return torch.tensor([number1, number2]), torch.tensor([number1 + number2])\n",
    "\n",
    "    def __len__(self):\n",
    "        return len(self.numbers) ** 2\n",
    "\n",
    "dataset = NumberSumDataset(data_range=(1, 100))\n",
    "\n",
    "for i in range(5):\n",
    "    print(dataset[i])"
   ],
   "outputs": [
    {
     "name": "stdout",
     "output_type": "stream",
     "text": [
      "(tensor([1., 1.]), tensor([2.]))\n",
      "(tensor([1., 2.]), tensor([3.]))\n",
      "(tensor([1., 3.]), tensor([4.]))\n",
      "(tensor([1., 4.]), tensor([5.]))\n",
      "(tensor([1., 5.]), tensor([6.]))\n"
     ]
    }
   ],
   "execution_count": 4
  },
  {
   "metadata": {
    "ExecuteTime": {
     "end_time": "2025-04-26T17:26:52.422538Z",
     "start_time": "2025-04-26T17:26:51.757274Z"
    }
   },
   "cell_type": "code",
   "source": [
    "#Define a Simple Model\n",
    "class MLP(nn.Module):\n",
    "    def __init__(self, input_size):\n",
    "        super(MLP, self).__init__()\n",
    "        self.hidden_layer = nn.Linear(input_size, 128)\n",
    "        self.output_layer = nn.Linear(128, 1)\n",
    "        self.activation = nn.ReLU()\n",
    "\n",
    "    def forward(self, x):\n",
    "        x = self.activation(self.hidden_layer(x))\n",
    "        return self.output_layer(x)\n",
    "\n",
    "#Instantiate Components Needed for Training\n",
    "dataset = NumberSumDataset(data_range=(0, 100))\n",
    "dataloader = DataLoader(dataset, batch_size=100, shuffle=True)\n",
    "model = MLP(input_size=2)\n",
    "loss_function = nn.MSELoss()\n",
    "optimizer = optim.Adam(model.parameters(), lr=0.001)\n",
    "\n",
    "\n",
    "#Create a Training Loop\n",
    "for epoch in range(10):\n",
    "    total_loss = 0.0\n",
    "    for number_pairs, sums in dataloader:  # Iterate over the batches\n",
    "        predictions = model(number_pairs)  # Compute the model output\n",
    "        loss = loss_function(predictions, sums)  # Compute the loss\n",
    "        loss.backward()  # Perform backpropagation\n",
    "        optimizer.step()  # Update the parameters\n",
    "        optimizer.zero_grad()  # Zero the gradients\n",
    "\n",
    "        total_loss += loss.item()  # Add the loss for all batches\n",
    "\n",
    "    # Print the loss for this epoch\n",
    "    print(\"Epoch {}: Sum of Batch Losses = {:.5f}\".format(epoch, total_loss))\n"
   ],
   "id": "c135f9af27b4fabf",
   "outputs": [
    {
     "name": "stdout",
     "output_type": "stream",
     "text": [
      "Epoch 0: Sum of Batch Losses = 95870.24278\n",
      "Epoch 1: Sum of Batch Losses = 2741.02007\n",
      "Epoch 2: Sum of Batch Losses = 245.95515\n",
      "Epoch 3: Sum of Batch Losses = 9.99685\n",
      "Epoch 4: Sum of Batch Losses = 3.04062\n",
      "Epoch 5: Sum of Batch Losses = 1.93316\n",
      "Epoch 6: Sum of Batch Losses = 1.55317\n",
      "Epoch 7: Sum of Batch Losses = 1.36726\n",
      "Epoch 8: Sum of Batch Losses = 1.25424\n",
      "Epoch 9: Sum of Batch Losses = 1.18482\n"
     ]
    }
   ],
   "execution_count": 10
  },
  {
   "metadata": {
    "ExecuteTime": {
     "end_time": "2025-04-26T17:27:18.384517Z",
     "start_time": "2025-04-26T17:27:18.379551Z"
    }
   },
   "cell_type": "code",
   "source": [
    "#Try the Model Out\n",
    "# Test the model on 3 + 7\n",
    "model(torch.tensor([3.0, 7.0]))\n",
    "# tensor([10.1067], grad_fn=<AddBackward0>)"
   ],
   "id": "44db07b171e21e3f",
   "outputs": [
    {
     "data": {
      "text/plain": [
       "tensor([10.0366], grad_fn=<ViewBackward0>)"
      ]
     },
     "execution_count": 11,
     "metadata": {},
     "output_type": "execute_result"
    }
   ],
   "execution_count": 11
  }
 ],
 "metadata": {
  "kernelspec": {
   "display_name": "Python 3",
   "language": "python",
   "name": "python3"
  },
  "language_info": {
   "codemirror_mode": {
    "name": "ipython",
    "version": 2
   },
   "file_extension": ".py",
   "mimetype": "text/x-python",
   "name": "python",
   "nbconvert_exporter": "python",
   "pygments_lexer": "ipython2",
   "version": "2.7.6"
  }
 },
 "nbformat": 4,
 "nbformat_minor": 5
}
